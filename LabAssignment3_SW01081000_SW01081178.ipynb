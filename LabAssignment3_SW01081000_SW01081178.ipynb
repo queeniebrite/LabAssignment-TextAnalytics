{
 "cells": [
  {
   "cell_type": "markdown",
   "id": "0650fceb",
   "metadata": {},
   "source": [
    "# Lab Assignment 3\n",
    "\n",
    "1. Alyaa Natasha (SW01081000)\n",
    "2. Putri Qistina (SW01081178)"
   ]
  },
  {
   "cell_type": "markdown",
   "id": "bd7b439b",
   "metadata": {},
   "source": [
    "#### Import the necessary libraries"
   ]
  },
  {
   "cell_type": "code",
   "execution_count": 1,
   "id": "72f85216",
   "metadata": {},
   "outputs": [
    {
     "name": "stderr",
     "output_type": "stream",
     "text": [
      "[nltk_data] Downloading package stopwords to\n",
      "[nltk_data]     C:\\Users\\User\\AppData\\Roaming\\nltk_data...\n",
      "[nltk_data]   Package stopwords is already up-to-date!\n",
      "[nltk_data] Downloading package punkt to\n",
      "[nltk_data]     C:\\Users\\User\\AppData\\Roaming\\nltk_data...\n",
      "[nltk_data]   Package punkt is already up-to-date!\n",
      "[nltk_data] Downloading package wordnet to\n",
      "[nltk_data]     C:\\Users\\User\\AppData\\Roaming\\nltk_data...\n",
      "[nltk_data]   Package wordnet is already up-to-date!\n"
     ]
    },
    {
     "data": {
      "text/plain": [
       "True"
      ]
     },
     "execution_count": 1,
     "metadata": {},
     "output_type": "execute_result"
    }
   ],
   "source": [
    "import nltk\n",
    "from nltk.corpus import stopwords\n",
    "from nltk.tokenize import word_tokenize\n",
    "from nltk.stem import WordNetLemmatizer, PorterStemmer\n",
    "\n",
    "from gensim import corpora\n",
    "from gensim.models import LdaModel\n",
    "from gensim.models.coherencemodel import CoherenceModel\n",
    "import pandas as pd\n",
    "\n",
    "nltk.download('stopwords')\n",
    "nltk.download('punkt')\n",
    "nltk.download('wordnet')"
   ]
  },
  {
   "cell_type": "code",
   "execution_count": 2,
   "id": "11f030ba",
   "metadata": {},
   "outputs": [],
   "source": [
    "#Load the dataset\n",
    "df = pd.read_csv('news_dataset.csv')\n",
    "df['text'] = df['text'].astype(str).fillna('')\n",
    "\n",
    "# Remove rows with null values in 'text' column\n",
    "df = df.dropna(subset=['text'])\n",
    "\n",
    "#Read the data (use only the ‘text’ column)\n",
    "documents = df['text'].tolist()"
   ]
  },
  {
   "cell_type": "markdown",
   "id": "865912f4",
   "metadata": {},
   "source": [
    "#### Perform text pre-processing"
   ]
  },
  {
   "cell_type": "code",
   "execution_count": 3,
   "id": "bc9b1e12",
   "metadata": {},
   "outputs": [
    {
     "name": "stdout",
     "output_type": "stream",
     "text": [
      "['wonder', 'anyon', 'could', 'enlighten', 'car', 'saw', 'day', 'sport', 'car', 'look', 'late', 'earli', '70', 'call', 'bricklin', 'door', 'realli', 'small', 'addit', 'front', 'bumper', 'separ', 'rest', 'bodi', 'know', 'anyon', 'tellm', 'model', 'name', 'engin', 'spec', 'year', 'product', 'car', 'made', 'histori', 'whatev', 'info', 'funki', 'look', 'car', 'plea']\n"
     ]
    }
   ],
   "source": [
    "stop_words = set(stopwords.words('english'))\n",
    "stemmer = PorterStemmer()\n",
    "lemmatizer = WordNetLemmatizer()\n",
    "\n",
    "def preprocess_text(text):\n",
    "    tokens = word_tokenize(text.lower())\n",
    "    tokens = [token for token in tokens if token.isalnum()]\n",
    "    tokens = [token for token in tokens if token not in stop_words]\n",
    "    tokens = [stemmer.stem(token) for token in tokens]\n",
    "    tokens = [lemmatizer.lemmatize(token) for token in tokens]\n",
    "    return tokens\n",
    "\n",
    "preprocessed_documents = [preprocess_text(doc) for doc in documents]\n",
    "print(preprocessed_documents[0])"
   ]
  },
  {
   "cell_type": "markdown",
   "id": "05676a4f",
   "metadata": {},
   "source": [
    "#### Perform LDA using Gensim"
   ]
  },
  {
   "cell_type": "code",
   "execution_count": 4,
   "id": "30e10ba3",
   "metadata": {},
   "outputs": [],
   "source": [
    "#create a gensim dictionary object from the preprocessed doc\n",
    "dictionary = corpora.Dictionary(preprocessed_documents)\n",
    "\n",
    "#filter out tokens that appear in less than 15 doc or more than 50% of the doc\n",
    "dictionary.filter_extremes(no_below=15, no_above=0.5)\n",
    "\n",
    "#convert each preprocessed document into a BoW representation using the dictionary\n",
    "corpus = [dictionary.doc2bow(doc) for doc in preprocessed_documents]"
   ]
  },
  {
   "cell_type": "code",
   "execution_count": 5,
   "id": "19ce4b44",
   "metadata": {},
   "outputs": [],
   "source": [
    "#Run LDA\n",
    "lda_model = LdaModel(corpus, num_topics=5, id2word=dictionary, passes=15)"
   ]
  },
  {
   "cell_type": "code",
   "execution_count": 6,
   "id": "a804fd10",
   "metadata": {},
   "outputs": [],
   "source": [
    "#empty list to store dominiant topic labels for each doc\n",
    "article_labels = []\n",
    "\n",
    "#iterate over each preprocessed document\n",
    "for i, doc in enumerate(preprocessed_documents):\n",
    "    #for each doc, convert to box representation\n",
    "    bow = dictionary.doc2bow(doc)\n",
    "    \n",
    "    #get list of topic probabilities\n",
    "    topics = lda_model.get_document_topics(bow)\n",
    "    \n",
    "    #determine the topic with highest probability\n",
    "    dominant_topic = max(topics, key=lambda x: x[1])[0]\n",
    "    \n",
    "    #append to the list\n",
    "    article_labels.append(dominant_topic)"
   ]
  },
  {
   "cell_type": "markdown",
   "id": "f3ba23ce",
   "metadata": {},
   "source": [
    "#### Interpret the result "
   ]
  },
  {
   "cell_type": "code",
   "execution_count": 7,
   "id": "1fd7d780",
   "metadata": {},
   "outputs": [
    {
     "name": "stdout",
     "output_type": "stream",
     "text": [
      "Table with Articles and Topic:\n",
      "                                                 Article  Topic\n",
      "0      I was wondering if anyone out there could enli...      0\n",
      "1      I recently posted an article asking what kind ...      0\n",
      "2      \\nIt depends on your priorities.  A lot of peo...      0\n",
      "3      an excellent automatic can be found in the sub...      0\n",
      "4      : Ford and his automobile.  I need information...      0\n",
      "...                                                  ...    ...\n",
      "11309  Secrecy in Clipper Chip\\n\\nThe serial number o...      1\n",
      "11310  Hi !\\n\\nI am interested in the source of FEAL ...      1\n",
      "11311  The actual algorithm is classified, however, t...      1\n",
      "11312  \\n\\tThis appears to be generic calling upon th...      0\n",
      "11313  \\nProbably keep quiet and take it, lest they g...      0\n",
      "\n",
      "[11314 rows x 2 columns]\n",
      "\n"
     ]
    }
   ],
   "source": [
    "#create dataframe\n",
    "df_result = pd.DataFrame({\"Article\":documents, \"Topic\":article_labels})\n",
    "\n",
    "#print dataframe\n",
    "print(\"Table with Articles and Topic:\")\n",
    "print(df_result)\n",
    "print()"
   ]
  },
  {
   "cell_type": "code",
   "execution_count": 8,
   "id": "fb2ca570",
   "metadata": {},
   "outputs": [
    {
     "name": "stdout",
     "output_type": "stream",
     "text": [
      "Top terms for Topic #0:\n",
      "['would', 'get', 'one', 'go', 'like', 'know', 'think', 'time', 'good', 'could']\n",
      "\n",
      "Top terms for Topic #1:\n",
      "['use', 'key', 'file', 'x', 'system', 'encrypt', 'program', 'chip', 'window', 'db']\n",
      "\n",
      "Top terms for Topic #2:\n",
      "['1', '0', 'q', 'max', 'x', '2', 'g', 'r', '7', 'p']\n",
      "\n",
      "Top terms for Topic #3:\n",
      "['peopl', 'would', 'one', 'govern', 'say', 'god', 'think', 'state', 'law', 'right']\n",
      "\n",
      "Top terms for Topic #4:\n",
      "['game', 'team', '1', '2', 'year', 'play', '3', 'new', '4', '10']\n",
      "\n"
     ]
    }
   ],
   "source": [
    "#print top terms for each topic\n",
    "for topic_id in range(lda_model.num_topics):\n",
    "    print(f\"Top terms for Topic #{topic_id}:\")\n",
    "    top_terms = lda_model.show_topic(topic_id, topn=10)\n",
    "    print([term[0] for term in top_terms])\n",
    "    print()"
   ]
  },
  {
   "cell_type": "code",
   "execution_count": 9,
   "id": "45aaf203",
   "metadata": {},
   "outputs": [
    {
     "name": "stdout",
     "output_type": "stream",
     "text": [
      "Top Terms for Each Topic:\n",
      "Topic 0:\n",
      "- \"would\" (weight: 0.012)\n",
      "- \"get\" (weight: 0.012)\n",
      "- \"one\" (weight: 0.012)\n",
      "- \"go\" (weight: 0.011)\n",
      "- \"like\" (weight: 0.010)\n",
      "- \"know\" (weight: 0.009)\n",
      "- \"think\" (weight: 0.008)\n",
      "- \"time\" (weight: 0.007)\n",
      "- \"good\" (weight: 0.006)\n",
      "- \"could\" (weight: 0.006)\n",
      "\n",
      "Topic 1:\n",
      "- \"use\" (weight: 0.020)\n",
      "- \"key\" (weight: 0.011)\n",
      "- \"file\" (weight: 0.009)\n",
      "- \"x\" (weight: 0.009)\n",
      "- \"system\" (weight: 0.009)\n",
      "- \"encrypt\" (weight: 0.007)\n",
      "- \"program\" (weight: 0.007)\n",
      "- \"chip\" (weight: 0.006)\n",
      "- \"window\" (weight: 0.006)\n",
      "- \"db\" (weight: 0.005)\n",
      "\n",
      "Topic 2:\n",
      "- \"1\" (weight: 0.066)\n",
      "- \"0\" (weight: 0.060)\n",
      "- \"q\" (weight: 0.059)\n",
      "- \"max\" (weight: 0.057)\n",
      "- \"x\" (weight: 0.052)\n",
      "- \"2\" (weight: 0.041)\n",
      "- \"g\" (weight: 0.036)\n",
      "- \"r\" (weight: 0.036)\n",
      "- \"7\" (weight: 0.033)\n",
      "- \"p\" (weight: 0.030)\n",
      "\n",
      "Topic 3:\n",
      "- \"peopl\" (weight: 0.010)\n",
      "- \"would\" (weight: 0.008)\n",
      "- \"one\" (weight: 0.008)\n",
      "- \"govern\" (weight: 0.006)\n",
      "- \"say\" (weight: 0.006)\n",
      "- \"god\" (weight: 0.005)\n",
      "- \"think\" (weight: 0.005)\n",
      "- \"state\" (weight: 0.005)\n",
      "- \"law\" (weight: 0.005)\n",
      "- \"right\" (weight: 0.004)\n",
      "\n",
      "Topic 4:\n",
      "- \"game\" (weight: 0.010)\n",
      "- \"team\" (weight: 0.010)\n",
      "- \"1\" (weight: 0.010)\n",
      "- \"2\" (weight: 0.010)\n",
      "- \"year\" (weight: 0.007)\n",
      "- \"play\" (weight: 0.007)\n",
      "- \"3\" (weight: 0.006)\n",
      "- \"new\" (weight: 0.006)\n",
      "- \"4\" (weight: 0.005)\n",
      "- \"10\" (weight: 0.005)\n",
      "\n"
     ]
    }
   ],
   "source": [
    "#print the top terms for each topic with weight\n",
    "print(\"Top Terms for Each Topic:\")\n",
    "for idx, topic in lda_model.print_topics():\n",
    "    print(f\"Topic {idx}:\")\n",
    "    terms = [term.strip() for term in topic.split(\"+\")]\n",
    "    \n",
    "    for term in terms:\n",
    "        weight, word = term.split(\"*\")\n",
    "        print(f\"- {word.strip()} (weight: {weight.strip()})\")\n",
    "    print()"
   ]
  },
  {
   "cell_type": "markdown",
   "id": "bbd6baaa",
   "metadata": {},
   "source": [
    "#### Evaluate the LDA model using Coherence score "
   ]
  },
  {
   "cell_type": "code",
   "execution_count": 10,
   "id": "a8135d9f",
   "metadata": {},
   "outputs": [
    {
     "name": "stdout",
     "output_type": "stream",
     "text": [
      "Topic Coherence Score (C_V): 0.6301\n"
     ]
    }
   ],
   "source": [
    "# Calculate the coherence score for the LDA model\n",
    "coherence_model_lda = CoherenceModel(model=lda_model, texts=preprocessed_documents, dictionary=dictionary, coherence='c_v')\n",
    "coherence_lda = coherence_model_lda.get_coherence()\n",
    "\n",
    "print(f'Topic Coherence Score (C_V): {coherence_lda:.4f}')"
   ]
  },
  {
   "cell_type": "code",
   "execution_count": null,
   "id": "bef8ed22",
   "metadata": {},
   "outputs": [],
   "source": []
  }
 ],
 "metadata": {
  "kernelspec": {
   "display_name": "Python 3 (ipykernel)",
   "language": "python",
   "name": "python3"
  },
  "language_info": {
   "codemirror_mode": {
    "name": "ipython",
    "version": 3
   },
   "file_extension": ".py",
   "mimetype": "text/x-python",
   "name": "python",
   "nbconvert_exporter": "python",
   "pygments_lexer": "ipython3",
   "version": "3.11.5"
  }
 },
 "nbformat": 4,
 "nbformat_minor": 5
}
