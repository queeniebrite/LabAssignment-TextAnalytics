{
 "cells": [
  {
   "cell_type": "code",
   "execution_count": null,
   "id": "b72da01b",
   "metadata": {},
   "outputs": [],
   "source": [
    "# Import necessary libraries\n",
    "import pandas as pd\n",
    "import nltk\n",
    "from nltk.corpus import stopwords\n",
    "from nltk.tokenize import word_tokenize\n",
    "from nltk.stem import WordNetLemmatizer, PorterStemmer\n",
    "\n",
    "from gensim import corpora\n",
    "from gensim.models import LdaModel\n",
    "from gensim.models.coherencemodel import CoherenceModel\n",
    "\n",
    "# Download NLTK Resources\n",
    "nltk.download('stopwords')\n",
    "nltk.download('punkt')\n",
    "nltk.download('wordnet')"
   ]
  },
  {
   "cell_type": "code",
   "execution_count": null,
   "id": "bb055f1c",
   "metadata": {},
   "outputs": [],
   "source": [
    "data = pd.read_csv('news_dataset.csv')"
   ]
  },
  {
   "cell_type": "code",
   "execution_count": null,
   "id": "54753981",
   "metadata": {},
   "outputs": [],
   "source": [
    "# Use only the text column\n",
    "documents = data['text'].dropna().tolist()"
   ]
  },
  {
   "cell_type": "markdown",
   "id": "d88bac5e",
   "metadata": {},
   "source": [
    "# Text Pre-Processing"
   ]
  },
  {
   "cell_type": "code",
   "execution_count": null,
   "id": "5f8acc32",
   "metadata": {},
   "outputs": [],
   "source": [
    "# remove stopwords, lemmatization, and stemming\n",
    "stop_words = set(stopwords.words('english'))\n",
    "lemmatizer = WordNetLemmatizer()\n",
    "stemmer = PorterStemmer()\n",
    "\n",
    "def preprocess_text(text):\n",
    "    tokens = word_tokenize(text.lower())\n",
    "    tokens = [token for token in tokens if token.isalnum() and not token.isdigit()] # Remove non-alphanumeric tokens and numbers\n",
    "    tokens = [token for token in tokens if token not in stop_words] # Remove stopwords\n",
    "    tokens = [stemmer.stem(token) for token in tokens] # Apply stemming\n",
    "    tokens = [lemmatizer.lemmatize(token) for token in tokens] # Apply lemmatization\n",
    "    return tokens\n",
    "\n",
    "# Preprocess every document in the list\n",
    "preprocessed_documents = [preprocess_text(doc) for doc in documents]"
   ]
  },
  {
   "cell_type": "markdown",
   "id": "6b028fb4",
   "metadata": {},
   "source": [
    "# Document-term Matrix"
   ]
  },
  {
   "cell_type": "code",
   "execution_count": null,
   "id": "93af64b7",
   "metadata": {},
   "outputs": [],
   "source": [
    "# Create a Gensim Dictionary object \n",
    "dictionary = corpora.Dictionary(preprocessed_documents)\n",
    "\n",
    "# Convert each preprocessed document into a bag-of-words representation \n",
    "corpus = [dictionary.doc2bow(doc) for doc in preprocessed_documents]"
   ]
  },
  {
   "cell_type": "markdown",
   "id": "07f68d20",
   "metadata": {},
   "source": [
    "# LDA"
   ]
  },
  {
   "cell_type": "code",
   "execution_count": null,
   "id": "8cf4f668",
   "metadata": {},
   "outputs": [],
   "source": [
    "# Train an LDA model on the corpus with 4 topics using Gensim's LdaModel class\n",
    "lda_model = LdaModel(corpus, num_topics=4, id2word=dictionary, passes=15)\n",
    "\n",
    "# Calculate the coherence score \n",
    "coherence_model_lda = CoherenceModel(model=lda_model, texts=preprocessed_documents, dictionary=dictionary, coherence='c_v')\n",
    "coherence_lda = coherence_model_lda.get_coherence()"
   ]
  },
  {
   "cell_type": "markdown",
   "id": "71405add",
   "metadata": {},
   "source": [
    "# Result"
   ]
  },
  {
   "cell_type": "code",
   "execution_count": null,
   "id": "c4d644e7",
   "metadata": {},
   "outputs": [],
   "source": [
    "# Empty list to store dominant topic labels for each document\n",
    "article_labels = []\n",
    "\n",
    "# Iterate over each processed document\n",
    "for i, doc in enumerate(preprocessed_documents):\n",
    "   \n",
    "    bow = dictionary.doc2bow(doc)\n",
    "    topics = lda_model.get_document_topics(bow)\n",
    "    dominant_topic = max(topics, key=lambda x: x[1])[0]\n",
    "    article_labels.append(dominant_topic)\n",
    "    \n",
    "# Create DataFrame\n",
    "df = pd.DataFrame({\"The Article\": documents, \"The Topic\": article_labels})\n",
    "\n",
    "# Print the DataFrame\n",
    "print(\"Table with the Articles and Topic:\")\n",
    "print(df)\n",
    "print()"
   ]
  },
  {
   "cell_type": "code",
   "execution_count": null,
   "id": "7b348017",
   "metadata": {},
   "outputs": [],
   "source": [
    "# Print the top terms for every topic\n",
    "print(\"Top Terms for Each Topic:\")\n",
    "for idx, topic in lda_model.print_topics():\n",
    "    print(f\"Topic {idx}:\")\n",
    "    terms = [term.strip() for term in topic.split(\"+\")]\n",
    "    for term in terms:\n",
    "        weight, word = term.split(\"*\")\n",
    "        print(f\"-{word.strip()} (weight: {weight.strip()})\")\n",
    "    print()\n",
    "\n",
    "# Display the coherence score\n",
    "print(f'Topic Coherence Score (C_V): {coherence_lda:.4f}')"
   ]
  },
  {
   "cell_type": "code",
   "execution_count": null,
   "id": "ba1fc6f0",
   "metadata": {},
   "outputs": [],
   "source": []
  }
 ],
 "metadata": {
  "kernelspec": {
   "display_name": "Python 3 (ipykernel)",
   "language": "python",
   "name": "python3"
  },
  "language_info": {
   "codemirror_mode": {
    "name": "ipython",
    "version": 3
   },
   "file_extension": ".py",
   "mimetype": "text/x-python",
   "name": "python",
   "nbconvert_exporter": "python",
   "pygments_lexer": "ipython3",
   "version": "3.11.5"
  }
 },
 "nbformat": 4,
 "nbformat_minor": 5
}
